{
 "cells": [
  {
   "cell_type": "code",
   "execution_count": 2,
   "id": "15d27205-ba57-415e-af06-929952e5f589",
   "metadata": {},
   "outputs": [
    {
     "ename": "ModuleNotFoundError",
     "evalue": "No module named 'geopandas'",
     "output_type": "error",
     "traceback": [
      "\u001b[0;31m---------------------------------------------------------------------------\u001b[0m",
      "\u001b[0;31mModuleNotFoundError\u001b[0m                       Traceback (most recent call last)",
      "Cell \u001b[0;32mIn[2], line 2\u001b[0m\n\u001b[1;32m      1\u001b[0m \u001b[38;5;28;01mimport\u001b[39;00m \u001b[38;5;21;01mpandas\u001b[39;00m \u001b[38;5;28;01mas\u001b[39;00m \u001b[38;5;21;01mpd\u001b[39;00m\n\u001b[0;32m----> 2\u001b[0m \u001b[38;5;28;01mimport\u001b[39;00m \u001b[38;5;21;01mgeopandas\u001b[39;00m \u001b[38;5;28;01mas\u001b[39;00m \u001b[38;5;21;01mgpd\u001b[39;00m\n\u001b[1;32m      3\u001b[0m \u001b[38;5;28;01mimport\u001b[39;00m \u001b[38;5;21;01mmatplotlib\u001b[39;00m\u001b[38;5;21;01m.\u001b[39;00m\u001b[38;5;21;01mpyplot\u001b[39;00m \u001b[38;5;28;01mas\u001b[39;00m \u001b[38;5;21;01mplt\u001b[39;00m\n\u001b[1;32m      4\u001b[0m \u001b[38;5;28;01mfrom\u001b[39;00m \u001b[38;5;21;01mmpl_toolkits\u001b[39;00m\u001b[38;5;21;01m.\u001b[39;00m\u001b[38;5;21;01maxes_grid1\u001b[39;00m \u001b[38;5;28;01mimport\u001b[39;00m make_axes_locatable\n",
      "\u001b[0;31mModuleNotFoundError\u001b[0m: No module named 'geopandas'"
     ]
    }
   ],
   "source": [
    "import pandas as pd\n",
    "import geopandas as gpd\n",
    "import matplotlib.pyplot as plt\n",
    "from mpl_toolkits.axes_grid1 import make_axes_locatable\n",
    "\n",
    "def load_and_prepare_data(data_path, shapefile_path):\n",
    "    # Load the CSV data\n",
    "    data = pd.read_csv(data_path)\n",
    "\n",
    "    # Load the shapefile data\n",
    "    gdf = gpd.read_file(shapefile_path)\n",
    "    \n",
    "    # Merge the data based on the geographical identifiers\n",
    "    merged_data = pd.merge(gdf, data, left_on='ITL221CD', right_on='ITLcode', how='left')\n",
    "    return merged_data\n",
    "\n",
    "def plot_eci_distribution(merged_data):\n",
    "    # Set font \n",
    "    plt.rcParams['font.family'] = 'STIXGeneral'\n",
    "    plt.rcParams['mathtext.fontset'] = 'stix'\n",
    "    \n",
    "    # Plot\n",
    "    fig, ax = plt.subplots(1, 1, figsize=(15, 9))\n",
    "    divider = make_axes_locatable(ax)\n",
    "    cax = divider.append_axes(\"right\", size=\"5%\", pad=0.1)\n",
    "    merged_data.plot(column='eci', ax=ax, legend=True, \n",
    "                     cax=cax,\n",
    "                     legend_kwds={'label': \"Economic Complexity Index (ECI)\", 'orientation': \"vertical\"})\n",
    "    \n",
    "    ax.set_axis_off()\n",
    "    \n",
    "    plt.show()\n",
    "\n",
    "if __name__ == \"__main__\":\n",
    "    # Paths to your data and shapefile\n",
    "    data_path = \"map/eci_mapexport.csv\"\n",
    "    shapefile_path = \"map/ITL2_JAN_2021_UK_BFC_V2.shp\"\n",
    "    \n",
    "    # Load and prepare the data\n",
    "    merged_data = load_and_prepare_data(data_path, shapefile_path)\n",
    "    \n",
    "    # Plot the ECI distribution\n",
    "    plot_eci_distribution(merged_data)\n"
   ]
  },
  {
   "cell_type": "code",
   "execution_count": null,
   "id": "a4cef26b-6cc7-4558-a439-5e26b737e8eb",
   "metadata": {},
   "outputs": [],
   "source": []
  }
 ],
 "metadata": {
  "kernelspec": {
   "display_name": "Python 3 (ipykernel)",
   "language": "python",
   "name": "python3"
  },
  "language_info": {
   "codemirror_mode": {
    "name": "ipython",
    "version": 3
   },
   "file_extension": ".py",
   "mimetype": "text/x-python",
   "name": "python",
   "nbconvert_exporter": "python",
   "pygments_lexer": "ipython3",
   "version": "3.11.5"
  }
 },
 "nbformat": 4,
 "nbformat_minor": 5
}
